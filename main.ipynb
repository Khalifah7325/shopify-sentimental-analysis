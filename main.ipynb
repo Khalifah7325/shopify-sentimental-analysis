{
  "nbformat": 4,
  "nbformat_minor": 0,
  "metadata": {
    "colab": {
      "provenance": []
    },
    "kernelspec": {
      "name": "python3",
      "display_name": "Python 3"
    },
    "language_info": {
      "name": "python"
    }
  },
  "cells": [
    {
      "cell_type": "code",
      "execution_count": 1,
      "metadata": {
        "id": "sBa4mqZPV3RD"
      },
      "outputs": [],
      "source": [
        "import numpy as np"
      ]
    }
  ]
}